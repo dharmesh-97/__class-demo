{
 "cells": [
  {
   "cell_type": "markdown",
   "id": "568b2227-3f08-4e73-aa8a-a7749f325219",
   "metadata": {},
   "source": [
    "#### - Lets write a function to load(read) the data."
   ]
  },
  {
   "cell_type": "code",
   "execution_count": 7,
   "id": "3a85eef4-d49c-4cfd-8796-310733c64eea",
   "metadata": {},
   "outputs": [],
   "source": [
    "import json"
   ]
  },
  {
   "cell_type": "code",
   "execution_count": 9,
   "id": "e6d7938d-060b-403c-af04-d4a946e66be1",
   "metadata": {},
   "outputs": [],
   "source": [
    "def load_data(filename):\n",
    "    with open(filename,'r') as f:\n",
    "        data = json.load(f)\n",
    "    return data"
   ]
  },
  {
   "cell_type": "code",
   "execution_count": 11,
   "id": "9816ee52-4d6b-4354-a9a5-97979baf9717",
   "metadata": {},
   "outputs": [],
   "source": [
    "data = load_data('data.json')"
   ]
  },
  {
   "cell_type": "code",
   "execution_count": 13,
   "id": "98bdd20e-8322-4513-a276-0c5f6dc47a23",
   "metadata": {},
   "outputs": [
    {
     "data": {
      "text/plain": [
       "{'users': [{'id': 1, 'name': 'Amit', 'friends': [2, 3], 'liked_pages': [101]},\n",
       "  {'id': 2, 'name': 'Priya', 'friends': [1, 4], 'liked_pages': [102]},\n",
       "  {'id': 3, 'name': 'Rahul', 'friends': [1], 'liked_pages': [101, 103]},\n",
       "  {'id': 4, 'name': 'Sara', 'friends': [2], 'liked_pages': [104]}],\n",
       " 'pages': [{'id': 101, 'name': 'Python Developers'},\n",
       "  {'id': 102, 'name': 'Data Science Enthusiasts'},\n",
       "  {'id': 103, 'name': 'AI & ML Community'},\n",
       "  {'id': 104, 'name': 'Web Dev Hub'}]}"
      ]
     },
     "execution_count": 13,
     "metadata": {},
     "output_type": "execute_result"
    }
   ],
   "source": [
    "data"
   ]
  },
  {
   "cell_type": "markdown",
   "id": "27c4f52a-c991-494e-8194-2537a02d5def",
   "metadata": {},
   "source": [
    "#### - Write a function to display user and their connections."
   ]
  },
  {
   "cell_type": "code",
   "execution_count": 33,
   "id": "3ec94099-a2be-4609-9bdb-d478253c0082",
   "metadata": {},
   "outputs": [
    {
     "name": "stdout",
     "output_type": "stream",
     "text": [
      "User and their connectinons:\n",
      "ID:1- Amit is friends with [2, 3] and liked pages are [101],\n",
      "ID:2- Priya is friends with [1, 4] and liked pages are [102],\n",
      "ID:3- Rahul is friends with [1] and liked pages are [101, 103],\n",
      "ID:4- Sara is friends with [2] and liked pages are [104],\n",
      "\n",
      "Pages informations:\n",
      "101: Python Developers,\n",
      "102: Data Science Enthusiasts,\n",
      "103: AI & ML Community,\n",
      "104: Web Dev Hub,\n"
     ]
    }
   ],
   "source": [
    "def display_user(data):\n",
    "    print(\"User and their connectinons:\")\n",
    "    for i in data['users']:\n",
    "        print(f\"ID:{i['id']}- {i['name']} is friends with {i['friends']} and liked pages are {i['liked_pages']},\")\n",
    "    print(\"\\nPages informations:\")\n",
    "    for i in data['pages']:\n",
    "        print(f\"{i['id']}: {i['name']},\")\n",
    "display_user(data)"
   ]
  },
  {
   "cell_type": "code",
   "execution_count": null,
   "id": "41a1bc03-759e-4ffd-b81d-864f2c105d43",
   "metadata": {},
   "outputs": [],
   "source": []
  },
  {
   "cell_type": "code",
   "execution_count": null,
   "id": "0e731cdf-511c-4ac0-a08e-1efe0f36ed62",
   "metadata": {},
   "outputs": [],
   "source": []
  }
 ],
 "metadata": {
  "kernelspec": {
   "display_name": "Python [conda env:base] *",
   "language": "python",
   "name": "conda-base-py"
  },
  "language_info": {
   "codemirror_mode": {
    "name": "ipython",
    "version": 3
   },
   "file_extension": ".py",
   "mimetype": "text/x-python",
   "name": "python",
   "nbconvert_exporter": "python",
   "pygments_lexer": "ipython3",
   "version": "3.12.7"
  }
 },
 "nbformat": 4,
 "nbformat_minor": 5
}
